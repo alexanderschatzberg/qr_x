{
 "cells": [
  {
   "cell_type": "code",
   "execution_count": 11,
   "metadata": {},
   "outputs": [],
   "source": [
    "import requests\n",
    "from bs4 import BeautifulSoup"
   ]
  },
  {
   "cell_type": "code",
   "execution_count": 17,
   "metadata": {},
   "outputs": [
    {
     "name": "stdout",
     "output_type": "stream",
     "text": [
      "How to Make a Simple Chocolate Cake https://www.wikihow.com/Make-a-Simple-Chocolate-Cake\n",
      "How to Make an Easy Sponge Cake https://www.wikihow.com/Make-an-Easy-Sponge-Cake\n",
      "How to Make a Sponge Cake https://www.wikihow.com/Make-a-Sponge-Cake\n",
      "How to Make a Cupcake Cake https://www.wikihow.com/Make-a-Cupcake-Cake\n",
      "Make a Chocolate Cake https://www.wikihow.com/Make-a-Chocolate-Cake\n",
      "How to Make a Victoria Sponge Cake https://www.wikihow.com/Make-a-Victoria-Sponge-Cake\n",
      "3 Quick Cake Frosting Recipes Anyone Can Make https://www.wikihow.com/Make-Cake-Icing\n",
      "How to Make Chocolate Vanilla Cake https://www.wikihow.com/Make-Chocolate-Vanilla-Cake\n",
      "How to Make Cupcakes with Cake Mix https://www.wikihow.com/Make-Cupcakes-with-Cake-Mix\n",
      "How to Make Fish Cakes https://www.wikihow.com/Make-Fish-Cakes\n",
      "How to Make Rice Cakes https://www.wikihow.com/Make-Rice-Cakes\n",
      "How to Make Jello Cake https://www.wikihow.com/Make-Jello-Cake\n",
      "How to Make a Cake in Minecraft https://www.wikihow.com/Make-a-Cake-in-Minecraft\n",
      "How to Make Fairy Cakes https://www.wikihow.com/Make-Fairy-Cakes\n",
      "How to Make Marble Cake https://www.wikihow.com/Make-Marble-Cake\n"
     ]
    }
   ],
   "source": [
    "# set the keyword to search for\n",
    "keyword = \"make a cake\"\n",
    "\n",
    "# set the URL of the search results page for the keyword\n",
    "url = f\"https://www.wikihow.com/wikiHowTo?search={keyword}\"\n",
    "\n",
    "# send a GET request to the URL and get the HTML response\n",
    "response = requests.get(url)\n",
    "\n",
    "# create a BeautifulSoup object to parse the HTML\n",
    "soup = BeautifulSoup(response.content, \"html.parser\")\n",
    "\n",
    "# find all the article links on the page\n",
    "articles = soup.find_all(\"a\", class_=\"result_link\")\n",
    "\n",
    "# loop through the articles and print the title of each one\n",
    "for article in articles:\n",
    "    article_title = article.find(\"div\", class_=\"result_title\").get_text()\n",
    "    article_url = article[\"href\"]\n",
    "\n",
    "    print(article_title, article_url)\n"
   ]
  }
 ],
 "metadata": {
  "kernelspec": {
   "display_name": "physics",
   "language": "python",
   "name": "python3"
  },
  "language_info": {
   "codemirror_mode": {
    "name": "ipython",
    "version": 3
   },
   "file_extension": ".py",
   "mimetype": "text/x-python",
   "name": "python",
   "nbconvert_exporter": "python",
   "pygments_lexer": "ipython3",
   "version": "3.10.9"
  },
  "orig_nbformat": 4
 },
 "nbformat": 4,
 "nbformat_minor": 2
}
