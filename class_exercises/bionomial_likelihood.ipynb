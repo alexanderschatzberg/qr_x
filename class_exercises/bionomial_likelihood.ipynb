{
 "cells": [
  {
   "cell_type": "code",
   "execution_count": 3,
   "metadata": {},
   "outputs": [],
   "source": [
    "import numpy as np\n",
    "import pandas as pd\n",
    "import matplotlib.pyplot as plt"
   ]
  },
  {
   "cell_type": "code",
   "execution_count": 7,
   "metadata": {},
   "outputs": [
    {
     "name": "stdout",
     "output_type": "stream",
     "text": [
      "   Toss number Henry (real) Jayden (real) Ellie (fake) Zander (probably real)  \\\n",
      "0            1            T             H            H                      H   \n",
      "1            2            T             H            T                      H   \n",
      "2            3            H             T            H                      T   \n",
      "3            4            H             T            T                      T   \n",
      "4            5            T             T            T                      H   \n",
      "\n",
      "  Paige (real) Sam (probably real)  \n",
      "0            H                   T  \n",
      "1            H                   T  \n",
      "2            T                   T  \n",
      "3            H                   T  \n",
      "4            H                   T  \n"
     ]
    }
   ],
   "source": [
    "# Read in the data\n",
    "data = pd.read_csv('data/coin_toss_results.csv')\n",
    "print(data.head())"
   ]
  }
 ],
 "metadata": {
  "kernelspec": {
   "display_name": "physics",
   "language": "python",
   "name": "python3"
  },
  "language_info": {
   "codemirror_mode": {
    "name": "ipython",
    "version": 3
   },
   "file_extension": ".py",
   "mimetype": "text/x-python",
   "name": "python",
   "nbconvert_exporter": "python",
   "pygments_lexer": "ipython3",
   "version": "3.10.9"
  },
  "orig_nbformat": 4
 },
 "nbformat": 4,
 "nbformat_minor": 2
}
