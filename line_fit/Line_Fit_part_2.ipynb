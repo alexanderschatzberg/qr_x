{
 "cells": [
  {
   "cell_type": "markdown",
   "metadata": {},
   "source": [
    "# Fitting a Line to Data (part 2)\n",
    "## A Monte Carlo Simulation\n",
    "Now that we understand the basics of fitting a line to data, we will now explore what we really want to know; what are the posterior probability distributions of our model parameters given the data.\n",
    "\n",
    "To do this, we will interpret each data point as a Gaussian PDF with mean of the given value of the data point and a standard deviation equal to the \"error\" of the data point.\n",
    "\n",
    "Let's first load our important packages:"
   ]
  },
  {
   "cell_type": "code",
   "execution_count": null,
   "metadata": {},
   "outputs": [],
   "source": [
    "import numpy as np\n",
    "import matplotlib.pyplot as plt\n",
    "%config InlineBackend.figure_format = 'retina'\n",
    "%matplotlib inline"
   ]
  },
  {
   "cell_type": "markdown",
   "metadata": {},
   "source": [
    "Now let's define a function that will produce linear data with a given slope and intercept at the same x values as our data. These datapoints will be spread randomly with a standard deviation of the error on the data."
   ]
  },
  {
   "cell_type": "code",
   "execution_count": null,
   "metadata": {},
   "outputs": [],
   "source": [
    "# We need the data to get the x values.\n",
    "xvals,yvals,yerror = np.loadtxt('line_data.txt',unpack=True)\n",
    "\n",
    "# These numbers describe our original dataset\n",
    "slope = 2.5\n",
    "intercept = 3.2\n",
    "sig = 1.5"
   ]
  },
  {
   "cell_type": "code",
   "execution_count": null,
   "metadata": {},
   "outputs": [],
   "source": [
    "# Function to create linear data with specified characteristics\n",
    "\n",
    "def random_lin(slope=slope,intercept=intercept,num=9,sig=sig,plot=False):\n",
    "\n",
    "    # Create a vector of x values\n",
    "    x = xvals\n",
    "\n",
    "    # Create linear data from x vector\n",
    "    y = slope*x + intercept\n",
    "\n",
    "    # Generate random numbers with zero mean\n",
    "    r = np.random.normal(0,sig,num)\n",
    "\n",
    "    # Add noise to y values\n",
    "    yrand = y + r\n",
    "\n",
    "    # Plot optional\n",
    "    if plot:\n",
    "        plt.figure(1)\n",
    "        plt.clf()\n",
    "        plt.errorbar(x,yrand,yerr=sig,fmt='o')\n",
    "\n",
    "    return x, yrand"
   ]
  },
  {
   "cell_type": "markdown",
   "metadata": {},
   "source": [
    "Go ahead and generate some random linear data to test it out..."
   ]
  },
  {
   "cell_type": "code",
   "execution_count": null,
   "metadata": {},
   "outputs": [],
   "source": [
    "x,y = random_lin(plot=True)"
   ]
  },
  {
   "cell_type": "markdown",
   "metadata": {},
   "source": [
    "Now let's define a function that will generate random data with our previous function and then fit a line using linear least squares."
   ]
  },
  {
   "cell_type": "code",
   "execution_count": null,
   "metadata": {},
   "outputs": [],
   "source": [
    "def fit_line(yerror=1.5,num=9,plot=False,full=False):\n",
    "\n",
    "    x,y = random_lin(sig=yerror,num=num,plot=plot)\n",
    "\n",
    "    weights = 1.0/(yerror**2) * np.ones(num)\n",
    "\n",
    "    fit = np.polyfit(x,y,1,full=False,w=weights,cov=True)\n",
    "\n",
    "    fitparams = fit[0]\n",
    "    slope = fitparams[0]\n",
    "    intercept = fitparams[1]\n",
    "\n",
    "    cov = fit[1]\n",
    "\n",
    "    param_error = np.sqrt(np.diagonal(cov))\n",
    "    slope_error = param_error[0]\n",
    "    intercept_error = param_error[1]\n",
    "    \n",
    "    if plot:\n",
    "        plt.plot(x,slope*x+intercept,'r--')\n",
    "\n",
    "    if full:\n",
    "        return slope, slope_error, intercept, intercept_error,cov\n",
    "\n",
    "    return slope, slope_error, intercept, intercept_error"
   ]
  },
  {
   "cell_type": "markdown",
   "metadata": {},
   "source": [
    "Go ahead and see how this works!"
   ]
  },
  {
   "cell_type": "code",
   "execution_count": null,
   "metadata": {},
   "outputs": [],
   "source": [
    "s,s_err,i,i_err = fit_line(plot=True)"
   ]
  },
  {
   "cell_type": "markdown",
   "metadata": {},
   "source": [
    "Now let's do this a bazillion times (or a godzillion, or however many times you want), and collect the best fit slopes, intercepts and their associated errors."
   ]
  },
  {
   "cell_type": "code",
   "execution_count": null,
   "metadata": {},
   "outputs": [],
   "source": [
    "slope_dist = []\n",
    "int_dist = []\n",
    "slope_err = []\n",
    "int_err = []\n",
    "\n",
    "for i in range(10000):\n",
    "    s,se,b,be = fit_line()\n",
    "    slope_dist = np.append(slope_dist,s)\n",
    "    slope_err = np.append(slope_err,se)\n",
    "    int_dist = np.append(int_dist,b)\n",
    "    int_err = np.append(int_err,be)"
   ]
  },
  {
   "cell_type": "markdown",
   "metadata": {},
   "source": [
    "Now let's plot up these distributions and see how they look."
   ]
  },
  {
   "cell_type": "code",
   "execution_count": null,
   "metadata": {},
   "outputs": [],
   "source": [
    "plt.hist(slope_dist,bins=200)\n",
    "plt.title('Probability Distribution Function for the Slope of our Data')\n",
    "plt.axvline(x=slope,color='red',linestyle='--')\n",
    "plt.xlabel('Slope')\n",
    "plt.ylabel('Frequency');"
   ]
  },
  {
   "cell_type": "code",
   "execution_count": null,
   "metadata": {},
   "outputs": [],
   "source": [
    "plt.hist(int_dist,bins=200)\n",
    "plt.title('Probability Distribution Function for the Intercept of our Data')\n",
    "plt.axvline(x=intercept,color='red',linestyle='--')\n",
    "plt.xlabel('Intercept')\n",
    "plt.ylabel('Frequency');"
   ]
  },
  {
   "cell_type": "markdown",
   "metadata": {},
   "source": [
    "But what have we done here? We have generated the distribution of slopes that result from a dataset with 9 values, each y value being gaussian distributed with a specified standard deviation. This is, by the way, what the [0,0] value of the covariance matrix is trying to estimate. \n",
    "\n",
    "We have, in essence, simulated the correct answer. These distributions are what we will soon call 'posterior probability distributions.'"
   ]
  },
  {
   "cell_type": "code",
   "execution_count": null,
   "metadata": {},
   "outputs": [],
   "source": [
    "slope_std = np.std(slope_dist,ddof=1)\n",
    "\n",
    "print('Standard deviation of the slope distribution = %0.3f'% slope_std)\n",
    "print('Mean of the estimated slope errors from covariance matrix = %0.3f' %(np.mean(slope_err)))"
   ]
  },
  {
   "cell_type": "code",
   "execution_count": null,
   "metadata": {},
   "outputs": [],
   "source": [
    "int_std = np.std(int_dist,ddof=1)\n",
    "\n",
    "print('Standard deviation of the intercept distribution = %0.3f'% int_std)\n",
    "print('Mean of the estimated intercept errors from covariance matrix = %0.3f' %(np.mean(int_err)))"
   ]
  },
  {
   "cell_type": "markdown",
   "metadata": {},
   "source": [
    "Another relationship that is often overlooked in this process is not the standard deviation of the distributions of the fit parameters, but rather the <i>co-variance</i> between the two variables. For a line, the slope and intercept have a very large covariance. "
   ]
  },
  {
   "cell_type": "code",
   "execution_count": null,
   "metadata": {},
   "outputs": [],
   "source": [
    "fig,ax=plt.subplots()\n",
    "plt.plot(slope_dist,int_dist,'.')\n",
    "plt.title('Scatter plot of best fit slopes versus best fit intercepts')\n",
    "plt.xlabel('Slope')\n",
    "plt.ylabel('Intercept')\n",
    "ax.set_aspect('equal', 'datalim')"
   ]
  },
  {
   "cell_type": "markdown",
   "metadata": {},
   "source": [
    "How do these numbers compare to our original fit in the Line_Fit_1 python notebook?\n",
    "\n",
    "What kind of distribution do you expect the residuals of these fits to follow?"
   ]
  },
  {
   "cell_type": "code",
   "execution_count": null,
   "metadata": {},
   "outputs": [],
   "source": []
  }
 ],
 "metadata": {
  "kernelspec": {
   "display_name": "Python 3 (ipykernel)",
   "language": "python",
   "name": "python3"
  },
  "language_info": {
   "codemirror_mode": {
    "name": "ipython",
    "version": 3
   },
   "file_extension": ".py",
   "mimetype": "text/x-python",
   "name": "python",
   "nbconvert_exporter": "python",
   "pygments_lexer": "ipython3",
   "version": "3.9.12"
  }
 },
 "nbformat": 4,
 "nbformat_minor": 1
}
