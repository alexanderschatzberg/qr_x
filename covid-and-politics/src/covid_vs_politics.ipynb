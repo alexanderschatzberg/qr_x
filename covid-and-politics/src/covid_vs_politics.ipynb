{
 "cells": [
  {
   "cell_type": "code",
   "execution_count": 11,
   "metadata": {},
   "outputs": [],
   "source": [
    "#libraries and data\n",
    "import pandas as pd\n",
    "import numpy as np\n",
    "import matplotlib.pyplot as plt\n",
    "import requests as req\n",
    "import seaborn as sns \n",
    "from sklearn.linear_model import LinearRegression\n",
    "import scipy.stats "
   ]
  },
  {
   "cell_type": "code",
   "execution_count": 3,
   "metadata": {},
   "outputs": [],
   "source": [
    "#Classes to process the data\n",
    "class State(object):\n",
    "  def __init__(self, state, new_cases_per_100k, dem_margin):\n",
    "    self.state = state\n",
    "    self.cases = new_cases_per_100k\n",
    "    self.dem_margin = dem_margin \n",
    "  \n",
    "  def toString(self):\n",
    "    return f\"State: {self.state}, New Weekly Cases Per 100k: {self.cases}, Democratic Margin of Victory: {self.dem_margin}\"\n",
    "\n",
    "class Container(object):\n",
    "  def __init__(self):\n",
    "    self.states = []\n",
    "  \n",
    "  def add(self, state):\n",
    "    self.states.append(state)\n",
    "  \n",
    "  def toString(self):\n",
    "    string = ''\n",
    "    for item in self.states:\n",
    "      string += item.toString() + \"\\n\"\n",
    "    return string"
   ]
  },
  {
   "cell_type": "code",
   "execution_count": 4,
   "metadata": {},
   "outputs": [],
   "source": [
    "#Covid Data \n",
    "cov_key = \"2c3b686a09214915b1471a2f0df00d20\"\n",
    "cov_url = \"https://api.covidactnow.org/v2/states.json?apiKey=\"+cov_key\n",
    "\n",
    "#Get data\n",
    "cov_data = req.get(cov_url).json()\n",
    "\n",
    "#Create dataframe\n",
    "df = pd.DataFrame(cov_data)\n",
    "state_covid_data = {}\n",
    "\n",
    "for row in df.iterrows():\n",
    "  state_covid_data[row[1].state] = row[1].metrics[\"weeklyNewCasesPer100k\"]"
   ]
  },
  {
   "cell_type": "code",
   "execution_count": 5,
   "metadata": {},
   "outputs": [],
   "source": [
    "#Voting Data \n",
    "vote_data = pd.read_csv(r'../data/pop_vote2.csv')\n",
    "\n",
    "#Make a dictionary with the states as keys and the democratic margin as values\n",
    "vote_dict_names = dict(zip(vote_data['state'], vote_data['dem_this_margin']))\n",
    "\n",
    "#Dict of abbreviations and full names\n",
    "state_dict = {'AL': 'Alabama', 'AK': 'Alaska', 'AZ': 'Arizona', 'AR': 'Arkansas', 'CA': 'California', 'CO': 'Colorado', 'CT': 'Connecticut', 'DE': 'Delaware', 'FL': 'Florida', 'GA': 'Georgia', 'HI': 'Hawaii', 'ID': 'Idaho', 'IL': 'Illinois', 'IN': 'Indiana', 'IA': 'Iowa', 'KS': 'Kansas', 'KY': 'Kentucky', 'LA': 'Louisiana', 'ME': 'Maine', 'MD': 'Maryland', 'MA': 'Massachusetts', 'MI': 'Michigan', 'MN': 'Minnesota', 'MS': 'Mississippi', 'MO': 'Missouri', 'MT': 'Montana', 'NE': 'Nebraska', 'NV': 'Nevada', 'NH': 'New Hampshire', 'NJ': 'New Jersey', 'NM': 'New Mexico', 'NY': 'New York', 'NC': 'North Carolina', 'ND': 'North Dakota', 'OH': 'Ohio', 'OK': 'Oklahoma', 'OR': 'Oregon', 'PA': 'Pennsylvania', 'RI': 'Rhode Island', 'SC': 'South Carolina', 'SD': 'South Dakota', 'TN': 'Tennessee', 'TX': 'Texas', 'UT': 'Utah', 'VT': 'Vermont', 'VA': 'Virginia', 'WA': 'Washington', 'WV': 'West Virginia', 'WI': 'Wisconsin', 'WY': 'Wyoming'}\n",
    "#Reverse the list to use the name to find the variables \n",
    "#inv_map = {v: k for k, v in my_map.items()}\n",
    "state_dict = {v:k for k, v in state_dict.items()}\n",
    "\n",
    "vote_dict_abbrev = {}\n",
    "\n",
    "#Rename the states to their abrev\n",
    "for item in vote_dict_names:\n",
    "    try:\n",
    "        abbrev = state_dict[item]\n",
    "        vote_dict_abbrev[abbrev] = vote_dict_names[item]\n",
    "    except:\n",
    "        continue"
   ]
  },
  {
   "cell_type": "code",
   "execution_count": 6,
   "metadata": {},
   "outputs": [
    {
     "name": "stdout",
     "output_type": "stream",
     "text": [
      "State: AZ, New Weekly Cases Per 100k: 48.8, Democratic Margin of Victory: 0.3%\n",
      "State: FL, New Weekly Cases Per 100k: None, Democratic Margin of Victory: -3.4%\n",
      "State: GA, New Weekly Cases Per 100k: 72.2, Democratic Margin of Victory: 0.2%\n",
      "State: IA, New Weekly Cases Per 100k: 49.6, Democratic Margin of Victory: -8.2%\n",
      "State: MI, New Weekly Cases Per 100k: 65.6, Democratic Margin of Victory: 2.8%\n",
      "State: MN, New Weekly Cases Per 100k: 94.7, Democratic Margin of Victory: 7.1%\n",
      "State: NV, New Weekly Cases Per 100k: 46.1, Democratic Margin of Victory: 2.4%\n",
      "State: NH, New Weekly Cases Per 100k: 73.0, Democratic Margin of Victory: 7.4%\n",
      "State: NC, New Weekly Cases Per 100k: 137.1, Democratic Margin of Victory: -1.3%\n",
      "State: OH, New Weekly Cases Per 100k: 69.8, Democratic Margin of Victory: -8.0%\n",
      "State: PA, New Weekly Cases Per 100k: 84.7, Democratic Margin of Victory: 1.2%\n",
      "State: TX, New Weekly Cases Per 100k: 89.4, Democratic Margin of Victory: -5.6%\n",
      "State: WI, New Weekly Cases Per 100k: 72.7, Democratic Margin of Victory: 0.6%\n",
      "State: AL, New Weekly Cases Per 100k: 155.9, Democratic Margin of Victory: -25.5%\n",
      "State: AK, New Weekly Cases Per 100k: 88.0, Democratic Margin of Victory: -10.1%\n",
      "State: AR, New Weekly Cases Per 100k: 69.3, Democratic Margin of Victory: -27.6%\n",
      "State: CA, New Weekly Cases Per 100k: 62.5, Democratic Margin of Victory: 29.2%\n",
      "State: CO, New Weekly Cases Per 100k: 55.4, Democratic Margin of Victory: 13.5%\n",
      "State: CT, New Weekly Cases Per 100k: 84.9, Democratic Margin of Victory: 20.1%\n",
      "State: DE, New Weekly Cases Per 100k: 93.2, Democratic Margin of Victory: 19.0%\n",
      "State: HI, New Weekly Cases Per 100k: 73.0, Democratic Margin of Victory: 29.5%\n",
      "State: ID, New Weekly Cases Per 100k: 37.8, Democratic Margin of Victory: -30.8%\n",
      "State: IL, New Weekly Cases Per 100k: 86.4, Democratic Margin of Victory: 17.0%\n",
      "State: IN, New Weekly Cases Per 100k: 59.9, Democratic Margin of Victory: -16.1%\n",
      "State: KS, New Weekly Cases Per 100k: 80.8, Democratic Margin of Victory: -14.7%\n",
      "State: KY, New Weekly Cases Per 100k: 154.7, Democratic Margin of Victory: -25.9%\n",
      "State: LA, New Weekly Cases Per 100k: 108.0, Democratic Margin of Victory: -18.6%\n",
      "State: ME, New Weekly Cases Per 100k: 80.6, Democratic Margin of Victory: 9.1%\n",
      "State: MD, New Weekly Cases Per 100k: 93.0, Democratic Margin of Victory: 33.2%\n",
      "State: MA, New Weekly Cases Per 100k: 103.8, Democratic Margin of Victory: 33.5%\n",
      "State: MS, New Weekly Cases Per 100k: 114.7, Democratic Margin of Victory: -16.5%\n",
      "State: MO, New Weekly Cases Per 100k: 66.6, Democratic Margin of Victory: -15.4%\n",
      "State: MT, New Weekly Cases Per 100k: 48.8, Democratic Margin of Victory: -16.4%\n",
      "State: NE, New Weekly Cases Per 100k: 41.5, Democratic Margin of Victory: -19.2%\n",
      "State: NJ, New Weekly Cases Per 100k: 173.1, Democratic Margin of Victory: 15.9%\n",
      "State: NM, New Weekly Cases Per 100k: 49.8, Democratic Margin of Victory: 10.8%\n",
      "State: NY, New Weekly Cases Per 100k: 130.2, Democratic Margin of Victory: 23.1%\n",
      "State: ND, New Weekly Cases Per 100k: 101.0, Democratic Margin of Victory: -33.4%\n",
      "State: OK, New Weekly Cases Per 100k: 118.6, Democratic Margin of Victory: -33.1%\n",
      "State: OR, New Weekly Cases Per 100k: 51.5, Democratic Margin of Victory: 16.1%\n",
      "State: RI, New Weekly Cases Per 100k: 156.1, Democratic Margin of Victory: 20.8%\n",
      "State: SC, New Weekly Cases Per 100k: 156.5, Democratic Margin of Victory: -11.7%\n",
      "State: SD, New Weekly Cases Per 100k: 65.0, Democratic Margin of Victory: -26.2%\n",
      "State: TN, New Weekly Cases Per 100k: 356.2, Democratic Margin of Victory: -23.2%\n",
      "State: UT, New Weekly Cases Per 100k: 40.0, Democratic Margin of Victory: -20.5%\n",
      "State: VT, New Weekly Cases Per 100k: 80.6, Democratic Margin of Victory: 35.4%\n",
      "State: VA, New Weekly Cases Per 100k: 117.6, Democratic Margin of Victory: 10.1%\n",
      "State: WA, New Weekly Cases Per 100k: 63.0, Democratic Margin of Victory: 19.2%\n",
      "State: WV, New Weekly Cases Per 100k: 104.6, Democratic Margin of Victory: -38.9%\n",
      "State: WY, New Weekly Cases Per 100k: 32.5, Democratic Margin of Victory: -43.4%\n",
      "\n"
     ]
    }
   ],
   "source": [
    "#Put all the data into a container object\n",
    "container = Container()\n",
    "\n",
    "for item in vote_dict_abbrev:\n",
    "    state_obj = State(state=item, dem_margin=vote_dict_abbrev[item], new_cases_per_100k=state_covid_data[item])\n",
    "    container.add(state_obj)\n",
    "\n",
    "print(container.toString())"
   ]
  },
  {
   "cell_type": "code",
   "execution_count": 34,
   "metadata": {},
   "outputs": [
    {
     "name": "stdout",
     "output_type": "stream",
     "text": [
      "correlation: -0.05950118062938705, the p value for the correlation: 0.6846572598459101\n"
     ]
    },
    {
     "data": {
      "text/plain": [
       "Text(0, 0.5, 'Margin of Democratic Victory in the 2022 Election')"
      ]
     },
     "execution_count": 34,
     "metadata": {},
     "output_type": "execute_result"
    },
    {
     "data": {
      "image/png": "[encoded data removed]",
      "text/plain": [
       "<Figure size 432x288 with 1 Axes>"
      ]
     },
     "metadata": {
      "needs_background": "light"
     },
     "output_type": "display_data"
    }
   ],
   "source": [
    "#Make a plot for the data \n",
    "\n",
    "# Make two arrays, one for the dem_margin_vic and one for the cases \n",
    "dem_margin = []\n",
    "cases_per_100k = []\n",
    "\n",
    "for item in container.states:\n",
    "  if item.cases == None: \n",
    "    continue\n",
    "  else: \n",
    "    cases_per_100k.append(item.cases)\n",
    "    dem_margin.append(item.dem_margin)\n",
    "  \n",
    "# print(dem_margin)\n",
    "\n",
    "dem_float_arr = []\n",
    "\n",
    "for item in dem_margin:\n",
    "   dem_float_arr.append(float(item.replace(\"%\", \"\")))\n",
    "\n",
    "\n",
    "# linear line     \n",
    "X = pd.DataFrame(cases_per_100k).values\n",
    "Y = pd.DataFrame(dem_float_arr).values\n",
    "linear = LinearRegression()\n",
    "linear.fit(X, Y)\n",
    "y_pred = linear.predict(X)\n",
    "\n",
    "plt.figure(0)\n",
    "plt.scatter(cases_per_100k, dem_float_arr)\n",
    "\n",
    "correlation, p_value_correlation = scipy.stats.pearsonr(cases_per_100k, dem_float_arr)\n",
    "print(f\"correlation: {correlation}, the p value for the correlation: {p_value_correlation}\")\n",
    "\n",
    "fit, cov = np.polyfit(cases_per_100k, dem_float_arr, 3, cov=True)\n",
    "x_fit = np.linspace(np.min(X),np.max(X))\n",
    "poly_fit = np.polyval(fit,x_fit)\n",
    "plt.plot(x_fit, poly_fit, color = 'green')\n",
    "\n",
    "\n",
    "\n",
    "#set the scale of the x axis \n",
    "plt.xlim(25, 250)\n",
    "plt.plot(X, y_pred, color='red') \n",
    "plt.xlabel(\"Weekly New Cases Per 100k\")\n",
    "plt.ylabel(\"Margin of Democratic Victory in the 2022 Election\")\n"
   ]
  }
 ],
 "metadata": {
  "kernelspec": {
   "display_name": "Python 3.9.12 ('base')",
   "language": "python",
   "name": "python3"
  },
  "language_info": {
   "codemirror_mode": {
    "name": "ipython",
    "version": 3
   },
   "file_extension": ".py",
   "mimetype": "text/x-python",
   "name": "python",
   "nbconvert_exporter": "python",
   "pygments_lexer": "ipython3",
   "version": "3.9.12"
  },
  "orig_nbformat": 4,
  "vscode": {
   "interpreter": {
    "hash": "ca2d0ba8a76cd70564d51de3e0b80702f2c5618729a5dfda9e132bf15a607b7a"
   }
  }
 },
 "nbformat": 4,
 "nbformat_minor": 2
}
