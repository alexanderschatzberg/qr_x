{
 "cells": [
  {
   "cell_type": "code",
   "execution_count": 1,
   "metadata": {},
   "outputs": [],
   "source": [
    "#libraries and data\n",
    "import pandas as pd\n",
    "import numpy as np\n",
    "import matplotlib.pyplot as plt\n",
    "from sklearn.linear_model import LinearRegression\n",
    "import scipy.stats \n",
    "import random\n"
   ]
  },
  {
   "cell_type": "code",
   "execution_count": 2,
   "metadata": {},
   "outputs": [],
   "source": [
    "#Classes to process the data\n",
    "class State(object):\n",
    "  def __init__(self, state, new_cases_per_100k, dem_margin):\n",
    "    self.state = state\n",
    "    self.cases = new_cases_per_100k\n",
    "    self.dem_margin = dem_margin\n",
    "  \n",
    "  def toString(self):\n",
    "    return f\"State: {self.state}, Average New Weekly Cases Per 100k: {self.cases}, Democratic Margin of Victory: {self.dem_margin}\"\n",
    "\n",
    "#Container class to hold the data\n",
    "class Container(object):\n",
    "  def __init__(self):\n",
    "    self.states = []\n",
    "  \n",
    "  def add(self, state):\n",
    "    self.states.append(state)\n",
    "  \n",
    "  def toString(self):\n",
    "    string = ''\n",
    "    for item in self.states:\n",
    "      string += item.toString() + \"\\n\"\n",
    "    return string\n",
    "\n",
    "class StateCovidData(object):\n",
    "  def __init__(self, state):\n",
    "    self.state = state\n",
    "    self.cases = 0\n",
    "    self.point_count = 0\n",
    "    self.sum_of_cases = 0\n",
    "  \n",
    "  def add(self, new_cases_per_100k):\n",
    "    self.point_count += 1\n",
    "    self.sum_of_cases += new_cases_per_100k\n",
    "    self.cases = self.sum_of_cases/self.point_count\n",
    "    \n",
    "  def toString(self):\n",
    "    return f\"{self.state}, Average New Weekly Cases Per 100k: {self.cases}\""
   ]
  },
  {
   "cell_type": "code",
   "execution_count": 3,
   "metadata": {},
   "outputs": [],
   "source": [
    "#Covid Data \n",
    "cov_key = \"2c3b686a09214915b1471a2f0df00d20\"\n",
    "cov_url = \"https://api.covidactnow.org/v2/states.timeseries.csv?apiKey=\"+cov_key\n",
    "\n",
    "#Create dataframe\n",
    "df = pd.read_csv(cov_url)"
   ]
  },
  {
   "cell_type": "code",
   "execution_count": 4,
   "metadata": {},
   "outputs": [],
   "source": [
    "covid_data = df.loc[:, [\"date\", \"state\", \"metrics.weeklyCovidAdmissionsPer100k\"]]\n",
    "\n",
    "#Take the average of all the data for each state and add it to a dictionary with the state as the key\n",
    "state_covid_data = {}\n",
    "\n",
    "for row in covid_data.iterrows():\n",
    "  #continue if nan \n",
    "  if pd.isna(row[1][\"metrics.weeklyCovidAdmissionsPer100k\"]):\n",
    "    continue\n",
    "\n",
    "  if row[1].state in state_covid_data:\n",
    "    state_covid_data[row[1].state].add(row[1][\"metrics.weeklyCovidAdmissionsPer100k\"])\n",
    "  else:\n",
    "    state_covid_data[row[1].state] = StateCovidData(row[1].state)\n",
    "    state_covid_data[row[1].state].add(row[1][\"metrics.weeklyCovidAdmissionsPer100k\"])\n"
   ]
  },
  {
   "cell_type": "code",
   "execution_count": 5,
   "metadata": {},
   "outputs": [],
   "source": [
    "\n",
    "#Voting Data \n",
    "vote_data = pd.read_csv(r'../data/pop_vote2.csv')\n",
    "\n",
    "#Make a dictionary with the states as keys and the democratic margin as values\n",
    "vote_dict_names = dict(zip(vote_data['state'], vote_data['dem_this_margin']))\n",
    "\n",
    "#Dict of abbreviations and full names\n",
    "state_dict = {'AL': 'Alabama', 'AK': 'Alaska', 'AZ': 'Arizona', 'AR': 'Arkansas', 'CA': 'California', 'CO': 'Colorado', 'CT': 'Connecticut', 'DE': 'Delaware', 'FL': 'Florida', 'GA': 'Georgia', 'HI': 'Hawaii', 'ID': 'Idaho', 'IL': 'Illinois', 'IN': 'Indiana', 'IA': 'Iowa', 'KS': 'Kansas', 'KY': 'Kentucky', 'LA': 'Louisiana', 'ME': 'Maine', 'MD': 'Maryland', 'MA': 'Massachusetts', 'MI': 'Michigan', 'MN': 'Minnesota', 'MS': 'Mississippi', 'MO': 'Missouri', 'MT': 'Montana', 'NE': 'Nebraska', 'NV': 'Nevada', 'NH': 'New Hampshire', 'NJ': 'New Jersey', 'NM': 'New Mexico', 'NY': 'New York', 'NC': 'North Carolina', 'ND': 'North Dakota', 'OH': 'Ohio', 'OK': 'Oklahoma', 'OR': 'Oregon', 'PA': 'Pennsylvania', 'RI': 'Rhode Island', 'SC': 'South Carolina', 'SD': 'South Dakota', 'TN': 'Tennessee', 'TX': 'Texas', 'UT': 'Utah', 'VT': 'Vermont', 'VA': 'Virginia', 'WA': 'Washington', 'WV': 'West Virginia', 'WI': 'Wisconsin', 'WY': 'Wyoming'}\n",
    "#Reverse the list to use the name to find the variables \n",
    "#inv_map = {v: k for k, v in my_map.items()}\n",
    "state_dict = {v:k for k, v in state_dict.items()}\n",
    "\n",
    "vote_dict_abbrev = {}\n",
    "\n",
    "#Rename the states to their abrev\n",
    "for item in vote_dict_names:\n",
    "    try:\n",
    "        abbrev = state_dict[item]\n",
    "        vote_dict_abbrev[abbrev] = vote_dict_names[item]\n",
    "    except:\n",
    "        continue"
   ]
  },
  {
   "cell_type": "code",
   "execution_count": 6,
   "metadata": {},
   "outputs": [],
   "source": [
    "#Put all the data into a container object\n",
    "container = Container()\n",
    "\n",
    "for item in vote_dict_abbrev:\n",
    "    state_obj = State(state=item, dem_margin=vote_dict_abbrev[item], new_cases_per_100k=state_covid_data[item].cases)\n",
    "    container.add(state_obj)"
   ]
  },
  {
   "cell_type": "code",
   "execution_count": 13,
   "metadata": {},
   "outputs": [],
   "source": [
    "democratic = []\n",
    "republic = []\n",
    "\n",
    "for item in container.states:\n",
    "    if item.cases == None:\n",
    "        continue\n",
    "    else:\n",
    "        if float(item.dem_margin.replace(\"%\", \"\")) > 0:\n",
    "            democratic.append(item)\n",
    "        else:\n",
    "            republic.append(item)"
   ]
  },
  {
   "cell_type": "code",
   "execution_count": 15,
   "metadata": {},
   "outputs": [],
   "source": [
    "def df_mean(list):\n",
    "    num = 0\n",
    "    for i in list:\n",
    "        num += i.cases\n",
    "    num /= len(list)\n",
    "    return num"
   ]
  },
  {
   "cell_type": "code",
   "execution_count": 18,
   "metadata": {},
   "outputs": [
    {
     "name": "stdout",
     "output_type": "stream",
     "text": [
      "democratic mean is 12.00396048468123 and republic mean is 15.280893146597279\n",
      "The difference is 3.2769326619160495\n",
      "It is 0.0032769326619160495% more likely to get covid in a republican state\n"
     ]
    }
   ],
   "source": [
    "dem_mean = df_mean(democratic)\n",
    "rep_mean = df_mean(republic)\n",
    "print(f'democratic mean is {dem_mean} and republic mean is {rep_mean}')\n",
    "dif = rep_mean - dem_mean\n",
    "print(f'The difference is {dif}')\n",
    "likelihood = (rep_mean - dem_mean) / 100000 * 100 \n",
    "print(f'It is {likelihood}% more likely to get covid in a republican state')"
   ]
  },
  {
   "cell_type": "code",
   "execution_count": 7,
   "metadata": {},
   "outputs": [],
   "source": [
    "#Make a plot for the data \n",
    "\n",
    "# Make two arrays, one for the dem_margin_vic and one for the cases \n",
    "dem_margin = []\n",
    "cases_per_100k = []\n",
    "\n",
    "for item in container.states:\n",
    "  if item.cases == None: \n",
    "    continue\n",
    "  else: \n",
    "    cases_per_100k.append(item.cases)\n",
    "    dem_margin.append(item.dem_margin)\n",
    "\n",
    "dem_float_arr = []\n",
    "\n",
    "for item in dem_margin:\n",
    "   dem_float_arr.append(float(item.replace(\"%\", \"\")))\n"
   ]
  },
  {
   "cell_type": "code",
   "execution_count": 8,
   "metadata": {},
   "outputs": [
    {
     "name": "stdout",
     "output_type": "stream",
     "text": [
      "Correlation: -0.5506990354108996, P Value of Correlation: 3.416449432157325e-05\n",
      "slope: -0.0980890190395498, and intercept: 13.414467935391343\n"
     ]
    },
    {
     "data": {
      "image/png": "[encoded data removed]",
      "text/plain": [
       "<Figure size 432x288 with 1 Axes>"
      ]
     },
     "metadata": {
      "needs_background": "light"
     },
     "output_type": "display_data"
    }
   ],
   "source": [
    "# linear line     \n",
    "cases = pd.DataFrame(cases_per_100k).values\n",
    "dem_margin = pd.DataFrame(dem_float_arr).values\n",
    "\n",
    "x = dem_float_arr\n",
    "y = cases_per_100k\n",
    "\n",
    "# correlation\n",
    "correlation, p_value_correlation = scipy.stats.pearsonr(x, y)\n",
    "print(f\"Correlation: {correlation}, P Value of Correlation: {p_value_correlation}\")\n",
    "\n",
    "# polyfit of 3rd degree, change the number in the polyfit function to change the degree of fit\n",
    "fit, cov = np.polyfit(x, y, 1, cov=True)\n",
    "print(f\"slope: {fit[0]}, and intercept: {fit[1]}\")\n",
    "\n",
    "x_fit = np.linspace(np.min(dem_margin),np.max(dem_margin))\n",
    "poly_fit = np.polyval(fit,x_fit)\n",
    "\n",
    "plt.plot(x_fit, poly_fit, color = 'red')\n",
    "\n",
    "plt.ylabel(\"Average New Weekly Cases Per 100k Since 3/1/2020\")\n",
    "plt.xlabel(\"Democratic Margin Victory in the 2022 Election (%)\")\n",
    "plt.title(\"Covid Cases and Democratic Margin Victory in the 2020 Election\")\n",
    "plt.scatter(x, y, color='black')\n",
    "plt.savefig(\"covid_cases_and_dem_margin.png\", dpi=500)\n",
    "plt.show()"
   ]
  },
  {
   "cell_type": "code",
   "execution_count": 9,
   "metadata": {},
   "outputs": [],
   "source": [
    "# cross_validation\n",
    "def cross_validation(remove_nums, dataSetX, dataSetY, iteration):\n",
    "    slope_array = []\n",
    "    for i in range (iteration):\n",
    "        copy_X = dataSetX.copy()\n",
    "        copy_Y = dataSetY.copy()\n",
    "        remove_indexs = random.sample(range(len(copy_X)), remove_nums)\n",
    "        for i in range(len(remove_indexs)):\n",
    "            copy_X.pop(remove_indexs[i]-i) #Because the list is getting smaller, we need to subtract i from the index\n",
    "            copy_Y.pop(remove_indexs[i]-i)  \n",
    "        fit = np.polyfit(copy_X, copy_Y, 1) \n",
    "        slope_array.append(fit)\n",
    "    return slope_array"
   ]
  },
  {
   "cell_type": "code",
   "execution_count": 10,
   "metadata": {},
   "outputs": [
    {
     "name": "stdout",
     "output_type": "stream",
     "text": [
      "Mean Slope: -0.09681412107322329, Mean Intercept: 13.376727055569015, Std Slope: 0.006793859650234753, Std Intercept: 0.11141411324531499))\n"
     ]
    },
    {
     "data": {
      "image/png": "[encoded data removed]",
      "text/plain": [
       "<Figure size 432x288 with 1 Axes>"
      ]
     },
     "metadata": {
      "needs_background": "light"
     },
     "output_type": "display_data"
    },
    {
     "data": {
      "image/png": "[encoded data removed]",
      "text/plain": [
       "<Figure size 432x288 with 1 Axes>"
      ]
     },
     "metadata": {
      "needs_background": "light"
     },
     "output_type": "display_data"
    },
    {
     "data": {
      "image/png": "[encoded data removed]",
      "text/plain": [
       "<Figure size 432x288 with 1 Axes>"
      ]
     },
     "metadata": {
      "needs_background": "light"
     },
     "output_type": "display_data"
    }
   ],
   "source": [
    "slope_array = cross_validation(3, x, y, 10)\n",
    "slope = []\n",
    "intercept = []\n",
    "for i in slope_array:\n",
    "    slope.append(i[0])\n",
    "    intercept.append(i[1])\n",
    "    \n",
    "mean_slope = np.mean(slope)\n",
    "mean_intercept = np.mean(intercept)\n",
    "\n",
    "std_intercept = np.std(intercept)\n",
    "std_slope = np.std(slope)\n",
    "\n",
    "print(f\"Mean Slope: {mean_slope}, Mean Intercept: {mean_intercept}, Std Slope: {std_slope}, Std Intercept: {std_intercept}))\")\n",
    "\n",
    "n = 100000000\n",
    "slope_hist = np.random.normal(mean_slope, std_slope, n)\n",
    "intercept_hist = np.random.normal(mean_intercept, std_intercept, n)\n",
    "\n",
    "bins = 700\n",
    "plt.hist(slope_hist, bins=bins, color='green')\n",
    "plt.title(\"Slope Histogram\")\n",
    "plt.savefig(\"Slope_Histogram\", dpi=500)\n",
    "plt.show()\n",
    "plt.hist(intercept_hist, bins=bins, color='red')\n",
    "plt.title(\"Y-Intercept Histogram\")\n",
    "plt.savefig(\"Y_Intercept_Histogram\", dpi=500)\n",
    "plt.show()\n",
    "plt.figure(1)\n",
    "\n",
    "x_fit = np.linspace(np.min(x),np.max(x))\n",
    "fit = [mean_slope, mean_intercept]\n",
    "poly_fit = np.polyval(fit,x_fit)\n",
    "plt.plot(x_fit, poly_fit, color = 'red')\n",
    "\n",
    "plt.xlabel(\"Democratic Margin Victory in the 2022 Election (%)\")\n",
    "plt.ylabel(\"Average New Weekly Cases Per 100k Residents Since 3/1/2020\")\n",
    "plt.title(\"Covid Cases and Democratic Margin Victory in the 2020 Election\")\n",
    "plt.scatter(x, y, color='black')\n",
    "# the plot is cut off, need to work on output\n",
    "plt.tight_layout()\n",
    "plt.savefig(\"cross_validation_covid_cases_and_dem_margin.pdf\", dpi=150)"
   ]
  },
  {
   "cell_type": "code",
   "execution_count": null,
   "metadata": {},
   "outputs": [],
   "source": []
  }
 ],
 "metadata": {
  "kernelspec": {
   "display_name": "Python 3.9.12 ('base')",
   "language": "python",
   "name": "python3"
  },
  "language_info": {
   "codemirror_mode": {
    "name": "ipython",
    "version": 3
   },
   "file_extension": ".py",
   "mimetype": "text/x-python",
   "name": "python",
   "nbconvert_exporter": "python",
   "pygments_lexer": "ipython3",
   "version": "3.9.12"
  },
  "orig_nbformat": 4,
  "vscode": {
   "interpreter": {
    "hash": "ca2d0ba8a76cd70564d51de3e0b80702f2c5618729a5dfda9e132bf15a607b7a"
   }
  }
 },
 "nbformat": 4,
 "nbformat_minor": 2
}
