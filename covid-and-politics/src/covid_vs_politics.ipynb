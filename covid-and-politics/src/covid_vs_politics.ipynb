{
 "cells": [
  {
   "cell_type": "code",
   "execution_count": null,
   "metadata": {},
   "outputs": [],
   "source": [
    "#libraries and data\n",
    "import pandas as pd\n",
    "import matplotlib.pyplot as plt\n",
    "import requests as req"
   ]
  },
  {
   "cell_type": "code",
   "execution_count": null,
   "metadata": {},
   "outputs": [],
   "source": [
    "#Classes to process the data\n",
    "class State(object):\n",
    "  def __init__(self, state, new_cases_per_100k, dem_margin):\n",
    "    self.state = state\n",
    "    self.cases = new_cases_per_100k\n",
    "    self.dem_margin = dem_margin \n",
    "  \n",
    "  def toString(self):\n",
    "    return f\"State: {self.state}, New Weekly Cases Per 100k: {self.cases}, Democratic Margin of Victory: {self.dem_margin}\"\n",
    "\n",
    "class Container(object):\n",
    "  def __init__(self):\n",
    "    self.states = []\n",
    "  \n",
    "  def add(self, state):\n",
    "    self.states.append(state)\n",
    "  \n",
    "  def toString(self):\n",
    "    string = ''\n",
    "    for item in self.states:\n",
    "      string += item.toString() + \"\\n\"\n",
    "    return string"
   ]
  },
  {
   "cell_type": "code",
   "execution_count": null,
   "metadata": {},
   "outputs": [],
   "source": [
    "#Covid Data \n",
    "cov_key = \"2c3b686a09214915b1471a2f0df00d20\"\n",
    "cov_url = \"https://api.covidactnow.org/v2/states.json?apiKey=\"+cov_key\n",
    "\n",
    "#Get data\n",
    "cov_data = req.get(cov_url).json()\n",
    "\n",
    "#Create dataframe\n",
    "df = pd.DataFrame(cov_data)\n",
    "state_covid_data = {}\n",
    "\n",
    "for row in df.iterrows():\n",
    "  state_covid_data[row[1].state] = row[1].metrics[\"weeklyNewCasesPer100k\"]"
   ]
  },
  {
   "cell_type": "code",
   "execution_count": null,
   "metadata": {},
   "outputs": [],
   "source": [
    "#Voting Data \n",
    "vote_data = pd.read_csv(r'../data/pop_vote2.csv')\n",
    "\n",
    "#Make a dictionary with the states as keys and the democratic margin as values\n",
    "vote_dict_names = dict(zip(vote_data['state'], vote_data['dem_this_margin']))\n",
    "\n",
    "#Dict of abbreviations and full names\n",
    "state_dict = {'AL': 'Alabama', 'AK': 'Alaska', 'AZ': 'Arizona', 'AR': 'Arkansas', 'CA': 'California', 'CO': 'Colorado', 'CT': 'Connecticut', 'DE': 'Delaware', 'FL': 'Florida', 'GA': 'Georgia', 'HI': 'Hawaii', 'ID': 'Idaho', 'IL': 'Illinois', 'IN': 'Indiana', 'IA': 'Iowa', 'KS': 'Kansas', 'KY': 'Kentucky', 'LA': 'Louisiana', 'ME': 'Maine', 'MD': 'Maryland', 'MA': 'Massachusetts', 'MI': 'Michigan', 'MN': 'Minnesota', 'MS': 'Mississippi', 'MO': 'Missouri', 'MT': 'Montana', 'NE': 'Nebraska', 'NV': 'Nevada', 'NH': 'New Hampshire', 'NJ': 'New Jersey', 'NM': 'New Mexico', 'NY': 'New York', 'NC': 'North Carolina', 'ND': 'North Dakota', 'OH': 'Ohio', 'OK': 'Oklahoma', 'OR': 'Oregon', 'PA': 'Pennsylvania', 'RI': 'Rhode Island', 'SC': 'South Carolina', 'SD': 'South Dakota', 'TN': 'Tennessee', 'TX': 'Texas', 'UT': 'Utah', 'VT': 'Vermont', 'VA': 'Virginia', 'WA': 'Washington', 'WV': 'West Virginia', 'WI': 'Wisconsin', 'WY': 'Wyoming'}\n",
    "#Reverse the list to use the name to find the variables \n",
    "#inv_map = {v: k for k, v in my_map.items()}\n",
    "state_dict = {v:k for k, v in state_dict.items()}\n",
    "\n",
    "vote_dict_abbrev = {}\n",
    "\n",
    "#Rename the states to their abrev\n",
    "for item in vote_dict_names:\n",
    "    try:\n",
    "        abbrev = state_dict[item]\n",
    "        vote_dict_abbrev[abbrev] = vote_dict_names[item]\n",
    "    except:\n",
    "        continue"
   ]
  },
  {
   "cell_type": "code",
   "execution_count": null,
   "metadata": {},
   "outputs": [],
   "source": [
    "#Put all the data into a container object\n",
    "container = Container()\n",
    "\n",
    "for item in vote_dict_abbrev:\n",
    "    state_obj = State(state=item, dem_margin=vote_dict_abbrev[item], new_cases_per_100k=state_covid_data[item])\n",
    "    container.add(state_obj)\n",
    "\n",
    "print(container.toString())"
   ]
  },
  {
   "cell_type": "code",
   "execution_count": 89,
   "metadata": {},
   "outputs": [
    {
     "name": "stdout",
     "output_type": "stream",
     "text": [
      "[0.3, -3.4, 0.2, -8.2, 2.8, 7.1, 2.4, 7.4, -1.3, -8.0, 1.2, -5.6, 0.6, -25.5, -10.1, -27.6, 29.2, 13.5, 20.1, 19.0, 29.5, -30.8, 17.0, -16.1, -14.7, -25.9, -18.6, 9.1, 33.2, 33.5, -16.5, -15.4, -16.4, -19.2, 15.9, 10.8, 23.1, -33.4, -33.1, 16.1, 20.8, -11.7, -26.2, -23.2, -20.5, 35.4, 10.1, 19.2, -38.9, -43.4]\n"
     ]
    },
    {
     "ename": "AttributeError",
     "evalue": "'float' object has no attribute 'replace'",
     "output_type": "error",
     "traceback": [
      "\u001b[0;31m---------------------------------------------------------------------------\u001b[0m",
      "\u001b[0;31mAttributeError\u001b[0m                            Traceback (most recent call last)",
      "Cell \u001b[0;32mIn[89], line 16\u001b[0m\n\u001b[1;32m     13\u001b[0m dem_float_arr \u001b[39m=\u001b[39m []\n\u001b[1;32m     15\u001b[0m \u001b[39mfor\u001b[39;00m item \u001b[39min\u001b[39;00m dem_margin:\n\u001b[0;32m---> 16\u001b[0m    dem_float_arr\u001b[39m.\u001b[39mappend(\u001b[39mfloat\u001b[39m(item\u001b[39m.\u001b[39;49mreplace(\u001b[39m\"\u001b[39m\u001b[39m%\u001b[39m\u001b[39m\"\u001b[39m, \u001b[39m\"\u001b[39m\u001b[39m\"\u001b[39m)))\n\u001b[1;32m     18\u001b[0m plt\u001b[39m.\u001b[39mfigure(\u001b[39m0\u001b[39m)\n\u001b[1;32m     19\u001b[0m plt\u001b[39m.\u001b[39mscatter(cases_per_100k, dem_float_arr)\n",
      "\u001b[0;31mAttributeError\u001b[0m: 'float' object has no attribute 'replace'"
     ]
    }
   ],
   "source": [
    "#Make a plot for the data \n",
    "\n",
    "# Make two arrays, one for the dem_margin_vic and one for the cases \n",
    "dem_margin = []\n",
    "cases_per_100k = []\n",
    "\n",
    "for item in container.states:\n",
    "  cases_per_100k.append(item.cases)\n",
    "  dem_margin.append(item.dem_margin)\n",
    "\n",
    "print(dem_margin)\n",
    "\n",
    "dem_float_arr = []\n",
    "\n",
    "for item in dem_margin:\n",
    "   dem_float_arr.append(float(item.replace(\"%\", \"\")))\n",
    "\n",
    "plt.figure(0)\n",
    "plt.scatter(cases_per_100k, dem_float_arr)\n",
    "\n",
    "#set the scale of the x axis \n",
    "plt.xlim(25, 250)\n",
    "\n",
    "plt.xlabel(\"Weekly New Cases Per 100k\")\n",
    "plt.ylabel(\"Margin of Democratic Victory in the 2022 Election\")\n"
   ]
  }
 ],
 "metadata": {
  "kernelspec": {
   "display_name": "Python 3.11.0 ('qr-2022')",
   "language": "python",
   "name": "python3"
  },
  "language_info": {
   "codemirror_mode": {
    "name": "ipython",
    "version": 3
   },
   "file_extension": ".py",
   "mimetype": "text/x-python",
   "name": "python",
   "nbconvert_exporter": "python",
   "pygments_lexer": "ipython3",
   "version": "3.11.0"
  },
  "orig_nbformat": 4,
  "vscode": {
   "interpreter": {
    "hash": "3ffdbad002fda2d18967513b1f339de1c8ba3e48f3d380102f7d2faa53b68d18"
   }
  }
 },
 "nbformat": 4,
 "nbformat_minor": 2
}
