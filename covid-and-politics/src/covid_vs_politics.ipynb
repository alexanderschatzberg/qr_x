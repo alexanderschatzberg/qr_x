{
 "cells": [
  {
   "cell_type": "code",
   "execution_count": 15,
   "metadata": {},
   "outputs": [],
   "source": [
    "#libraries and data\n",
    "import pandas as pd\n",
    "import matplotlib.pyplot as plt\n",
    "import requests as req\n",
    "import seaborn as sns \n",
    "from sklearn.linear_model import LinearRegression\n"
   ]
  },
  {
   "cell_type": "code",
   "execution_count": 16,
   "metadata": {},
   "outputs": [],
   "source": [
    "#Classes to process the data\n",
    "class State(object):\n",
    "  def __init__(self, state, new_cases_per_100k, dem_margin):\n",
    "    self.state = state\n",
    "    self.cases = new_cases_per_100k\n",
    "    self.dem_margin = dem_margin \n",
    "  \n",
    "  def toString(self):\n",
    "    return f\"State: {self.state}, New Weekly Cases Per 100k: {self.cases}, Democratic Margin of Victory: {self.dem_margin}\"\n",
    "\n",
    "class Container(object):\n",
    "  def __init__(self):\n",
    "    self.states = []\n",
    "  \n",
    "  def add(self, state):\n",
    "    self.states.append(state)\n",
    "  \n",
    "  def toString(self):\n",
    "    string = ''\n",
    "    for item in self.states:\n",
    "      string += item.toString() + \"\\n\"\n",
    "    return string"
   ]
  },
  {
   "cell_type": "code",
   "execution_count": 17,
   "metadata": {},
   "outputs": [],
   "source": [
    "#Covid Data \n",
    "cov_key = \"2c3b686a09214915b1471a2f0df00d20\"\n",
    "cov_url = \"https://api.covidactnow.org/v2/states.json?apiKey=\"+cov_key\n",
    "\n",
    "#Get data\n",
    "cov_data = req.get(cov_url).json()\n",
    "\n",
    "#Create dataframe\n",
    "df = pd.DataFrame(cov_data)\n",
    "state_covid_data = {}\n",
    "\n",
    "for row in df.iterrows():\n",
    "  state_covid_data[row[1].state] = row[1].metrics[\"weeklyNewCasesPer100k\"]"
   ]
  },
  {
   "cell_type": "code",
   "execution_count": 18,
   "metadata": {},
   "outputs": [],
   "source": [
    "#Voting Data \n",
    "vote_data = pd.read_csv(r'../data/pop_vote2.csv')\n",
    "\n",
    "#Make a dictionary with the states as keys and the democratic margin as values\n",
    "vote_dict_names = dict(zip(vote_data['state'], vote_data['dem_this_margin']))\n",
    "\n",
    "#Dict of abbreviations and full names\n",
    "state_dict = {'AL': 'Alabama', 'AK': 'Alaska', 'AZ': 'Arizona', 'AR': 'Arkansas', 'CA': 'California', 'CO': 'Colorado', 'CT': 'Connecticut', 'DE': 'Delaware', 'FL': 'Florida', 'GA': 'Georgia', 'HI': 'Hawaii', 'ID': 'Idaho', 'IL': 'Illinois', 'IN': 'Indiana', 'IA': 'Iowa', 'KS': 'Kansas', 'KY': 'Kentucky', 'LA': 'Louisiana', 'ME': 'Maine', 'MD': 'Maryland', 'MA': 'Massachusetts', 'MI': 'Michigan', 'MN': 'Minnesota', 'MS': 'Mississippi', 'MO': 'Missouri', 'MT': 'Montana', 'NE': 'Nebraska', 'NV': 'Nevada', 'NH': 'New Hampshire', 'NJ': 'New Jersey', 'NM': 'New Mexico', 'NY': 'New York', 'NC': 'North Carolina', 'ND': 'North Dakota', 'OH': 'Ohio', 'OK': 'Oklahoma', 'OR': 'Oregon', 'PA': 'Pennsylvania', 'RI': 'Rhode Island', 'SC': 'South Carolina', 'SD': 'South Dakota', 'TN': 'Tennessee', 'TX': 'Texas', 'UT': 'Utah', 'VT': 'Vermont', 'VA': 'Virginia', 'WA': 'Washington', 'WV': 'West Virginia', 'WI': 'Wisconsin', 'WY': 'Wyoming'}\n",
    "#Reverse the list to use the name to find the variables \n",
    "#inv_map = {v: k for k, v in my_map.items()}\n",
    "state_dict = {v:k for k, v in state_dict.items()}\n",
    "\n",
    "vote_dict_abbrev = {}\n",
    "\n",
    "#Rename the states to their abrev\n",
    "for item in vote_dict_names:\n",
    "    try:\n",
    "        abbrev = state_dict[item]\n",
    "        vote_dict_abbrev[abbrev] = vote_dict_names[item]\n",
    "    except:\n",
    "        continue"
   ]
  },
  {
   "cell_type": "code",
   "execution_count": 20,
   "metadata": {},
   "outputs": [
    {
     "name": "stdout",
     "output_type": "stream",
     "text": [
      "State: AZ, New Weekly Cases Per 100k: 37.8, Democratic Margin of Victory: 0.3%\n",
      "State: FL, New Weekly Cases Per 100k: None, Democratic Margin of Victory: -3.4%\n",
      "State: GA, New Weekly Cases Per 100k: 77.3, Democratic Margin of Victory: 0.2%\n",
      "State: IA, New Weekly Cases Per 100k: 53.5, Democratic Margin of Victory: -8.2%\n",
      "State: MI, New Weekly Cases Per 100k: 96.0, Democratic Margin of Victory: 2.8%\n",
      "State: MN, New Weekly Cases Per 100k: 46.9, Democratic Margin of Victory: 7.1%\n",
      "State: NV, New Weekly Cases Per 100k: 41.0, Democratic Margin of Victory: 2.4%\n",
      "State: NH, New Weekly Cases Per 100k: 88.0, Democratic Margin of Victory: 7.4%\n",
      "State: NC, New Weekly Cases Per 100k: 150.1, Democratic Margin of Victory: -1.3%\n",
      "State: OH, New Weekly Cases Per 100k: 68.1, Democratic Margin of Victory: -8.0%\n",
      "State: PA, New Weekly Cases Per 100k: 86.3, Democratic Margin of Victory: 1.2%\n",
      "State: TX, New Weekly Cases Per 100k: 70.5, Democratic Margin of Victory: -5.6%\n",
      "State: WI, New Weekly Cases Per 100k: 75.1, Democratic Margin of Victory: 0.6%\n",
      "State: AL, New Weekly Cases Per 100k: 137.5, Democratic Margin of Victory: -25.5%\n",
      "State: AK, New Weekly Cases Per 100k: 88.7, Democratic Margin of Victory: -10.1%\n",
      "State: AR, New Weekly Cases Per 100k: 78.6, Democratic Margin of Victory: -27.6%\n",
      "State: CA, New Weekly Cases Per 100k: 73.1, Democratic Margin of Victory: 29.2%\n",
      "State: CO, New Weekly Cases Per 100k: 44.1, Democratic Margin of Victory: 13.5%\n",
      "State: CT, New Weekly Cases Per 100k: 108.3, Democratic Margin of Victory: 20.1%\n",
      "State: DE, New Weekly Cases Per 100k: 85.0, Democratic Margin of Victory: 19.0%\n",
      "State: HI, New Weekly Cases Per 100k: 73.7, Democratic Margin of Victory: 29.5%\n",
      "State: ID, New Weekly Cases Per 100k: 36.9, Democratic Margin of Victory: -30.8%\n",
      "State: IL, New Weekly Cases Per 100k: 142.6, Democratic Margin of Victory: 17.0%\n",
      "State: IN, New Weekly Cases Per 100k: 59.0, Democratic Margin of Victory: -16.1%\n",
      "State: KS, New Weekly Cases Per 100k: 66.7, Democratic Margin of Victory: -14.7%\n",
      "State: KY, New Weekly Cases Per 100k: 213.4, Democratic Margin of Victory: -25.9%\n",
      "State: LA, New Weekly Cases Per 100k: 112.0, Democratic Margin of Victory: -18.6%\n",
      "State: ME, New Weekly Cases Per 100k: 87.5, Democratic Margin of Victory: 9.1%\n",
      "State: MD, New Weekly Cases Per 100k: 80.7, Democratic Margin of Victory: 33.2%\n",
      "State: MA, New Weekly Cases Per 100k: 121.9, Democratic Margin of Victory: 33.5%\n",
      "State: MS, New Weekly Cases Per 100k: 162.3, Democratic Margin of Victory: -16.5%\n",
      "State: MO, New Weekly Cases Per 100k: 82.2, Democratic Margin of Victory: -15.4%\n",
      "State: MT, New Weekly Cases Per 100k: 47.2, Democratic Margin of Victory: -16.4%\n",
      "State: NE, New Weekly Cases Per 100k: 46.2, Democratic Margin of Victory: -19.2%\n",
      "State: NJ, New Weekly Cases Per 100k: 161.6, Democratic Margin of Victory: 15.9%\n",
      "State: NM, New Weekly Cases Per 100k: 47.6, Democratic Margin of Victory: 10.8%\n",
      "State: NY, New Weekly Cases Per 100k: 134.9, Democratic Margin of Victory: 23.1%\n",
      "State: ND, New Weekly Cases Per 100k: 61.1, Democratic Margin of Victory: -33.4%\n",
      "State: OK, New Weekly Cases Per 100k: 113.1, Democratic Margin of Victory: -33.1%\n",
      "State: OR, New Weekly Cases Per 100k: 49.9, Democratic Margin of Victory: 16.1%\n",
      "State: RI, New Weekly Cases Per 100k: 188.6, Democratic Margin of Victory: 20.8%\n",
      "State: SC, New Weekly Cases Per 100k: 136.5, Democratic Margin of Victory: -11.7%\n",
      "State: SD, New Weekly Cases Per 100k: 52.4, Democratic Margin of Victory: -26.2%\n",
      "State: TN, New Weekly Cases Per 100k: 330.3, Democratic Margin of Victory: -23.2%\n",
      "State: UT, New Weekly Cases Per 100k: 33.3, Democratic Margin of Victory: -20.5%\n",
      "State: VT, New Weekly Cases Per 100k: 62.3, Democratic Margin of Victory: 35.4%\n",
      "State: VA, New Weekly Cases Per 100k: 123.7, Democratic Margin of Victory: 10.1%\n",
      "State: WA, New Weekly Cases Per 100k: 60.5, Democratic Margin of Victory: 19.2%\n",
      "State: WV, New Weekly Cases Per 100k: 105.3, Democratic Margin of Victory: -38.9%\n",
      "State: WY, New Weekly Cases Per 100k: 34.7, Democratic Margin of Victory: -43.4%\n",
      "\n"
     ]
    }
   ],
   "source": [
    "#Put all the data into a container object\n",
    "container = Container()\n",
    "\n",
    "for item in vote_dict_abbrev:\n",
    "    state_obj = State(state=item, dem_margin=vote_dict_abbrev[item], new_cases_per_100k=state_covid_data[item])\n",
    "    container.add(state_obj)\n",
    "\n",
    "print(container.toString())"
   ]
  },
  {
   "cell_type": "code",
   "execution_count": 41,
   "metadata": {},
   "outputs": [
    {
     "data": {
      "text/plain": [
       "Text(0, 0.5, 'Margin of Democratic Victory in the 2022 Election')"
      ]
     },
     "execution_count": 41,
     "metadata": {},
     "output_type": "execute_result"
    },
    {
     "data": {
      "image/png": "[encoded data removed]",
      "text/plain": [
       "<Figure size 432x288 with 1 Axes>"
      ]
     },
     "metadata": {
      "needs_background": "light"
     },
     "output_type": "display_data"
    }
   ],
   "source": [
    "#Make a plot for the data \n",
    "\n",
    "# Make two arrays, one for the dem_margin_vic and one for the cases \n",
    "dem_margin = []\n",
    "cases_per_100k = []\n",
    "\n",
    "for item in container.states:\n",
    "  if item.cases == None: \n",
    "    continue\n",
    "  else: \n",
    "    cases_per_100k.append(item.cases)\n",
    "    dem_margin.append(item.dem_margin)\n",
    "  \n",
    "# print(dem_margin)\n",
    "\n",
    "dem_float_arr = []\n",
    "\n",
    "for item in dem_margin:\n",
    "   dem_float_arr.append(float(item.replace(\"%\", \"\")))\n",
    "\n",
    "\n",
    "# linear line     \n",
    "X = pd.DataFrame(cases_per_100k).values\n",
    "Y = pd.DataFrame(dem_float_arr).values\n",
    "linear = LinearRegression()\n",
    "linear.fit(X, Y)\n",
    "y_pred = linear.predict(X)\n",
    "\n",
    "plt.figure(0)\n",
    "plt.scatter(cases_per_100k, dem_float_arr)\n",
    "\n",
    "\n",
    "#set the scale of the x axis \n",
    "plt.xlim(25, 250)\n",
    "plt.plot(X, y_pred, color='red') \n",
    "plt.xlabel(\"Weekly New Cases Per 100k\")\n",
    "plt.ylabel(\"Margin of Democratic Victory in the 2022 Election\")\n"
   ]
  }
 ],
 "metadata": {
  "kernelspec": {
   "display_name": "base",
   "language": "python",
   "name": "python3"
  },
  "language_info": {
   "codemirror_mode": {
    "name": "ipython",
    "version": 3
   },
   "file_extension": ".py",
   "mimetype": "text/x-python",
   "name": "python",
   "nbconvert_exporter": "python",
   "pygments_lexer": "ipython3",
   "version": "3.9.12"
  },
  "orig_nbformat": 4,
  "vscode": {
   "interpreter": {
    "hash": "35b0aef568ce23610416eb61e30f2f8b85a6a2ae5ffada0af28f8c6d54a41301"
   }
  }
 },
 "nbformat": 4,
 "nbformat_minor": 2
}
