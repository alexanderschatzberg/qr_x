{
 "cells": [
  {
   "cell_type": "code",
   "execution_count": 1,
   "metadata": {},
   "outputs": [
    {
     "ename": "ModuleNotFoundError",
     "evalue": "No module named 'seaborn'",
     "output_type": "error",
     "traceback": [
      "\u001b[0;31m---------------------------------------------------------------------------\u001b[0m",
      "\u001b[0;31mModuleNotFoundError\u001b[0m                       Traceback (most recent call last)",
      "Cell \u001b[0;32mIn[1], line 5\u001b[0m\n\u001b[1;32m      3\u001b[0m \u001b[39mimport\u001b[39;00m \u001b[39mnumpy\u001b[39;00m \u001b[39mas\u001b[39;00m \u001b[39mnp\u001b[39;00m\n\u001b[1;32m      4\u001b[0m \u001b[39mimport\u001b[39;00m \u001b[39mmatplotlib\u001b[39;00m\u001b[39m.\u001b[39;00m\u001b[39mpyplot\u001b[39;00m \u001b[39mas\u001b[39;00m \u001b[39mplt\u001b[39;00m\n\u001b[0;32m----> 5\u001b[0m \u001b[39mimport\u001b[39;00m \u001b[39mseaborn\u001b[39;00m \u001b[39mas\u001b[39;00m \u001b[39msns\u001b[39;00m \n\u001b[1;32m      6\u001b[0m \u001b[39mfrom\u001b[39;00m \u001b[39msklearn\u001b[39;00m\u001b[39m.\u001b[39;00m\u001b[39mlinear_model\u001b[39;00m \u001b[39mimport\u001b[39;00m LinearRegression\n\u001b[1;32m      7\u001b[0m \u001b[39mimport\u001b[39;00m \u001b[39mscipy\u001b[39;00m\u001b[39m.\u001b[39;00m\u001b[39mstats\u001b[39;00m \n",
      "\u001b[0;31mModuleNotFoundError\u001b[0m: No module named 'seaborn'"
     ]
    }
   ],
   "source": [
    "#libraries and data\n",
    "import pandas as pd\n",
    "import numpy as np\n",
    "import matplotlib.pyplot as plt\n",
    "from sklearn.linear_model import LinearRegression\n",
    "import scipy.stats \n",
    "import random\n"
   ]
  },
  {
   "cell_type": "code",
   "execution_count": null,
   "metadata": {},
   "outputs": [
    {
     "ename": "",
     "evalue": "",
     "output_type": "error",
     "traceback": [
      "\u001b[1;31mFailed to start the Kernel. \n",
      "\u001b[1;31mJupyter server crashed. Unable to connect. \n",
      "\u001b[1;31mError code from Jupyter: 1\n",
      "\u001b[1;31mError executing Jupyter command 'notebook': [Errno 2] No such file or directory. \n",
      "\u001b[1;31mView Jupyter <a href='command:jupyter.viewOutput'>log</a> for further details."
     ]
    }
   ],
   "source": [
    "#Classes to process the data\n",
    "class State(object):\n",
    "  def __init__(self, state, new_cases_per_100k, dem_margin):\n",
    "    self.state = state\n",
    "    self.cases = new_cases_per_100k\n",
    "    self.dem_margin = dem_margin\n",
    "  \n",
    "  def toString(self):\n",
    "    return f\"State: {self.state}, Average New Weekly Cases Per 100k: {self.cases}, Democratic Margin of Victory: {self.dem_margin}\"\n",
    "\n",
    "#Container class to hold the data\n",
    "class Container(object):\n",
    "  def __init__(self):\n",
    "    self.states = []\n",
    "  \n",
    "  def add(self, state):\n",
    "    self.states.append(state)\n",
    "  \n",
    "  def toString(self):\n",
    "    string = ''\n",
    "    for item in self.states:\n",
    "      string += item.toString() + \"\\n\"\n",
    "    return string\n",
    "\n",
    "class StateCovidData(object):\n",
    "  def __init__(self, state):\n",
    "    self.state = state\n",
    "    self.cases = 0\n",
    "    self.point_count = 0\n",
    "    self.sum_of_cases = 0\n",
    "  \n",
    "  def add(self, new_cases_per_100k):\n",
    "    self.point_count += 1\n",
    "    self.sum_of_cases += new_cases_per_100k\n",
    "    self.cases = self.sum_of_cases/self.point_count\n",
    "    \n",
    "  def toString(self):\n",
    "    return f\"{self.state}, Average New Weekly Cases Per 100k: {self.cases}\""
   ]
  },
  {
   "cell_type": "code",
   "execution_count": null,
   "metadata": {},
   "outputs": [
    {
     "ename": "",
     "evalue": "",
     "output_type": "error",
     "traceback": [
      "\u001b[1;31mFailed to start the Kernel. \n",
      "\u001b[1;31mJupyter server crashed. Unable to connect. \n",
      "\u001b[1;31mError code from Jupyter: 1\n",
      "\u001b[1;31mError executing Jupyter command 'notebook': [Errno 2] No such file or directory. \n",
      "\u001b[1;31mView Jupyter <a href='command:jupyter.viewOutput'>log</a> for further details."
     ]
    }
   ],
   "source": [
    "#Covid Data \n",
    "cov_key = \"2c3b686a09214915b1471a2f0df00d20\"\n",
    "cov_url = \"https://api.covidactnow.org/v2/states.timeseries.csv?apiKey=\"+cov_key\n",
    "\n",
    "#Create dataframe\n",
    "df = pd.read_csv(cov_url)"
   ]
  },
  {
   "cell_type": "code",
   "execution_count": null,
   "metadata": {},
   "outputs": [
    {
     "ename": "",
     "evalue": "",
     "output_type": "error",
     "traceback": [
      "\u001b[1;31mFailed to start the Kernel. \n",
      "\u001b[1;31mJupyter server crashed. Unable to connect. \n",
      "\u001b[1;31mError code from Jupyter: 1\n",
      "\u001b[1;31mError executing Jupyter command 'notebook': [Errno 2] No such file or directory. \n",
      "\u001b[1;31mView Jupyter <a href='command:jupyter.viewOutput'>log</a> for further details."
     ]
    }
   ],
   "source": [
    "covid_data = df.loc[:, [\"date\", \"state\", \"metrics.weeklyCovidAdmissionsPer100k\"]]\n",
    "\n",
    "#Take the average of all the data for each state and add it to a dictionary with the state as the key\n",
    "state_covid_data = {}\n",
    "\n",
    "for row in covid_data.iterrows():\n",
    "  #continue if nan \n",
    "  if pd.isna(row[1][\"metrics.weeklyCovidAdmissionsPer100k\"]):\n",
    "    continue\n",
    "\n",
    "  if row[1].state in state_covid_data:\n",
    "    state_covid_data[row[1].state].add(row[1][\"metrics.weeklyCovidAdmissionsPer100k\"])\n",
    "  else:\n",
    "    state_covid_data[row[1].state] = StateCovidData(row[1].state)\n",
    "    state_covid_data[row[1].state].add(row[1][\"metrics.weeklyCovidAdmissionsPer100k\"])\n"
   ]
  },
  {
   "cell_type": "code",
   "execution_count": null,
   "metadata": {},
   "outputs": [
    {
     "ename": "",
     "evalue": "",
     "output_type": "error",
     "traceback": [
      "\u001b[1;31mFailed to start the Kernel. \n",
      "\u001b[1;31mJupyter server crashed. Unable to connect. \n",
      "\u001b[1;31mError code from Jupyter: 1\n",
      "\u001b[1;31mError executing Jupyter command 'notebook': [Errno 2] No such file or directory. \n",
      "\u001b[1;31mView Jupyter <a href='command:jupyter.viewOutput'>log</a> for further details."
     ]
    }
   ],
   "source": [
    "\n",
    "#Voting Data \n",
    "vote_data = pd.read_csv(r'../data/pop_vote2.csv')\n",
    "\n",
    "#Make a dictionary with the states as keys and the democratic margin as values\n",
    "vote_dict_names = dict(zip(vote_data['state'], vote_data['dem_this_margin']))\n",
    "\n",
    "#Dict of abbreviations and full names\n",
    "state_dict = {'AL': 'Alabama', 'AK': 'Alaska', 'AZ': 'Arizona', 'AR': 'Arkansas', 'CA': 'California', 'CO': 'Colorado', 'CT': 'Connecticut', 'DE': 'Delaware', 'FL': 'Florida', 'GA': 'Georgia', 'HI': 'Hawaii', 'ID': 'Idaho', 'IL': 'Illinois', 'IN': 'Indiana', 'IA': 'Iowa', 'KS': 'Kansas', 'KY': 'Kentucky', 'LA': 'Louisiana', 'ME': 'Maine', 'MD': 'Maryland', 'MA': 'Massachusetts', 'MI': 'Michigan', 'MN': 'Minnesota', 'MS': 'Mississippi', 'MO': 'Missouri', 'MT': 'Montana', 'NE': 'Nebraska', 'NV': 'Nevada', 'NH': 'New Hampshire', 'NJ': 'New Jersey', 'NM': 'New Mexico', 'NY': 'New York', 'NC': 'North Carolina', 'ND': 'North Dakota', 'OH': 'Ohio', 'OK': 'Oklahoma', 'OR': 'Oregon', 'PA': 'Pennsylvania', 'RI': 'Rhode Island', 'SC': 'South Carolina', 'SD': 'South Dakota', 'TN': 'Tennessee', 'TX': 'Texas', 'UT': 'Utah', 'VT': 'Vermont', 'VA': 'Virginia', 'WA': 'Washington', 'WV': 'West Virginia', 'WI': 'Wisconsin', 'WY': 'Wyoming'}\n",
    "#Reverse the list to use the name to find the variables \n",
    "#inv_map = {v: k for k, v in my_map.items()}\n",
    "state_dict = {v:k for k, v in state_dict.items()}\n",
    "\n",
    "vote_dict_abbrev = {}\n",
    "\n",
    "#Rename the states to their abrev\n",
    "for item in vote_dict_names:\n",
    "    try:\n",
    "        abbrev = state_dict[item]\n",
    "        vote_dict_abbrev[abbrev] = vote_dict_names[item]\n",
    "    except:\n",
    "        continue"
   ]
  },
  {
   "cell_type": "code",
   "execution_count": null,
   "metadata": {},
   "outputs": [
    {
     "ename": "",
     "evalue": "",
     "output_type": "error",
     "traceback": [
      "\u001b[1;31mFailed to start the Kernel. \n",
      "\u001b[1;31mJupyter server crashed. Unable to connect. \n",
      "\u001b[1;31mError code from Jupyter: 1\n",
      "\u001b[1;31mError executing Jupyter command 'notebook': [Errno 2] No such file or directory. \n",
      "\u001b[1;31mView Jupyter <a href='command:jupyter.viewOutput'>log</a> for further details."
     ]
    }
   ],
   "source": [
    "#Put all the data into a container object\n",
    "container = Container()\n",
    "\n",
    "for item in vote_dict_abbrev:\n",
    "    state_obj = State(state=item, dem_margin=vote_dict_abbrev[item], new_cases_per_100k=state_covid_data[item].cases)\n",
    "    container.add(state_obj)"
   ]
  },
  {
   "cell_type": "code",
   "execution_count": null,
   "metadata": {},
   "outputs": [
    {
     "ename": "",
     "evalue": "",
     "output_type": "error",
     "traceback": [
      "\u001b[1;31mFailed to start the Kernel. \n",
      "\u001b[1;31mJupyter server crashed. Unable to connect. \n",
      "\u001b[1;31mError code from Jupyter: 1\n",
      "\u001b[1;31mError executing Jupyter command 'notebook': [Errno 2] No such file or directory. \n",
      "\u001b[1;31mView Jupyter <a href='command:jupyter.viewOutput'>log</a> for further details."
     ]
    }
   ],
   "source": [
    "#Make a plot for the data \n",
    "\n",
    "# Make two arrays, one for the dem_margin_vic and one for the cases \n",
    "dem_margin = []\n",
    "cases_per_100k = []\n",
    "\n",
    "for item in container.states:\n",
    "  if item.cases == None: \n",
    "    continue\n",
    "  else: \n",
    "    cases_per_100k.append(item.cases)\n",
    "    dem_margin.append(item.dem_margin)\n",
    "\n",
    "dem_float_arr = []\n",
    "\n",
    "for item in dem_margin:\n",
    "   dem_float_arr.append(float(item.replace(\"%\", \"\")))\n"
   ]
  },
  {
   "cell_type": "code",
   "execution_count": null,
   "metadata": {},
   "outputs": [
    {
     "ename": "",
     "evalue": "",
     "output_type": "error",
     "traceback": [
      "\u001b[1;31mFailed to start the Kernel. \n",
      "\u001b[1;31mJupyter server crashed. Unable to connect. \n",
      "\u001b[1;31mError code from Jupyter: 1\n",
      "\u001b[1;31mError executing Jupyter command 'notebook': [Errno 2] No such file or directory. \n",
      "\u001b[1;31mView Jupyter <a href='command:jupyter.viewOutput'>log</a> for further details."
     ]
    }
   ],
   "source": [
    "# linear line     \n",
    "cases = pd.DataFrame(cases_per_100k).values\n",
    "dem_margin = pd.DataFrame(dem_float_arr).values\n",
    "\n",
    "linear = LinearRegression()\n",
    "linear.fit(cases, dem_margin)\n",
    "y_pred = linear.predict(cases)\n",
    "\n",
    "plt.figure(0)\n",
    "plt.scatter(cases_per_100k, dem_float_arr)\n",
    "\n",
    "# correlation\n",
    "correlation, p_value_correlation = scipy.stats.pearsonr(cases_per_100k, dem_float_arr)\n",
    "print(f\"Correlation: {correlation}, P Value of Correlation: {p_value_correlation}\")\n",
    "\n",
    "# polyfit of 3rd degree, change the number in the polyfit function to change the degree of fit\n",
    "fit, cov = np.polyfit(cases_per_100k, dem_float_arr, 1, cov=True)\n",
    "x_fit = np.linspace(np.min(cases),np.max(cases))\n",
    "poly_fit = np.polyval(fit,x_fit)\n",
    "plt.plot(x_fit, poly_fit, color = 'green')\n",
    "plt.figure(0)\n",
    "\n",
    "plt.xlabel(\"Average New Weekly Cases Per 100k Residents Since 3/1/2020\")\n",
    "plt.ylabel(\"Democratic Margin Victory in the 2022 Election (%)\")\n",
    "plt.title(\"Covid Cases and Democratic Margin Victory in the 2020 Election\")\n",
    "plt.scatter(cases_per_100k, dem_float_arr, color='black')\n",
    "plt.show()"
   ]
  },
  {
   "cell_type": "code",
   "execution_count": null,
   "metadata": {},
   "outputs": [
    {
     "ename": "",
     "evalue": "",
     "output_type": "error",
     "traceback": [
      "\u001b[1;31mFailed to start the Kernel. \n",
      "\u001b[1;31mJupyter server crashed. Unable to connect. \n",
      "\u001b[1;31mError code from Jupyter: 1\n",
      "\u001b[1;31mError executing Jupyter command 'notebook': [Errno 2] No such file or directory. \n",
      "\u001b[1;31mView Jupyter <a href='command:jupyter.viewOutput'>log</a> for further details."
     ]
    }
   ],
   "source": [
    "# cross_validation\n",
    "def cross_validation(remove_nums, dataSetX, dataSetY, iteration):\n",
    "    slope_array = []\n",
    "    for i in range (iteration):\n",
    "        copy_X = dataSetX.copy()\n",
    "        copy_Y = dataSetY.copy()\n",
    "        remove_indexs = random.sample(range(len(copy_X)), remove_nums)\n",
    "        for i in range(len(remove_indexs)):\n",
    "            copy_X.pop(remove_indexs[i]-i) #Because the list is getting smaller, we need to subtract i from the index\n",
    "            copy_Y.pop(remove_indexs[i]-i)  \n",
    "        fit = np.polyfit(copy_X, copy_Y, 1) \n",
    "        slope_array.append(fit)\n",
    "    return slope_array"
   ]
  },
  {
   "cell_type": "code",
   "execution_count": null,
   "metadata": {},
   "outputs": [
    {
     "ename": "",
     "evalue": "",
     "output_type": "error",
     "traceback": [
      "\u001b[1;31mFailed to start the Kernel. \n",
      "\u001b[1;31mJupyter server crashed. Unable to connect. \n",
      "\u001b[1;31mError code from Jupyter: 1\n",
      "\u001b[1;31mError executing Jupyter command 'notebook': [Errno 2] No such file or directory. \n",
      "\u001b[1;31mView Jupyter <a href='command:jupyter.viewOutput'>log</a> for further details."
     ]
    }
   ],
   "source": [
    "slope_array = cross_validation(3, cases_per_100k, dem_float_arr, 10)\n",
    "slope = []\n",
    "intercept = []\n",
    "for i in slope_array:\n",
    "    slope.append(i[0])\n",
    "    intercept.append(i[1])\n",
    "    \n",
    "mean_slope = np.mean(slope)\n",
    "mean_intercept = np.mean(intercept)\n",
    "\n",
    "std_intercept = np.std(intercept)\n",
    "std_slope = np.std(slope)\n",
    "\n",
    "print(f\"Mean Slope: {mean_slope}, Mean Intercept: {mean_intercept}, Std Slope: {std_slope}, Std Intercept: {std_intercept}))\")\n",
    "\n",
    "n = 10000000\n",
    "slope_hist = np.random.normal(mean_slope, std_slope, n)\n",
    "intercept_hist = np.random.normal(mean_intercept, std_intercept, n)\n",
    "\n",
    "bins = 500\n",
    "plt.hist(slope_hist, bins=bins, color='green')\n",
    "plt.title(\"Slope Histogram\")\n",
    "plt.show()\n",
    "plt.hist(intercept_hist, bins=bins, color='red')\n",
    "plt.title(\"Y-Intercept Histogram\")\n",
    "plt.show()\n",
    "plt.figure(1)\n",
    "\n",
    "x_fit = np.linspace(np.min(cases),np.max(cases))\n",
    "fit = [mean_slope, mean_intercept]\n",
    "poly_fit = np.polyval(fit,x_fit)\n",
    "plt.plot(x_fit, poly_fit, color = 'red')\n",
    "\n",
    "x_fit = np.linspace(np.min(cases),np.max(cases))\n",
    "fit = [mean_slope, mean_intercept]\n",
    "poly_fit = np.polyval(fit,x_fit)\n",
    "plt.plot(x_fit, poly_fit, color = 'red')\n",
    "\n",
    "plt.xlabel(\"Average New Weekly Cases Per 100k Residents Since 3/1/2020\")\n",
    "plt.ylabel(\"Democratic Margin Victory in the 2022 Election (%)\")\n",
    "plt.title(\"Covid Cases and Democratic Margin Victory in the 2020 Election\")\n",
    "plt.scatter(cases_per_100k, dem_float_arr, color='black')"
   ]
  },
  {
   "cell_type": "code",
   "execution_count": null,
   "metadata": {},
   "outputs": [
    {
     "ename": "",
     "evalue": "",
     "output_type": "error",
     "traceback": [
      "\u001b[1;31mFailed to start the Kernel. \n",
      "\u001b[1;31mJupyter server crashed. Unable to connect. \n",
      "\u001b[1;31mError code from Jupyter: 1\n",
      "\u001b[1;31mError executing Jupyter command 'notebook': [Errno 2] No such file or directory. \n",
      "\u001b[1;31mView Jupyter <a href='command:jupyter.viewOutput'>log</a> for further details."
     ]
    }
   ],
   "source": []
  }
 ],
 "metadata": {
  "kernelspec": {
   "display_name": "physics",
   "language": "python",
   "name": "python3"
  },
  "language_info": {
   "codemirror_mode": {
    "name": "ipython",
    "version": 3
   },
   "file_extension": ".py",
   "mimetype": "text/x-python",
   "name": "python",
   "nbconvert_exporter": "python",
   "pygments_lexer": "ipython3",
   "version": "3.10.9"
  },
  "orig_nbformat": 4,
  "vscode": {
   "interpreter": {
    "hash": "8c0008a63cbce5541b622949efed1339d14e23e32a2f2a739ba9033548bd2f0e"
   }
  }
 },
 "nbformat": 4,
 "nbformat_minor": 2
}
